{
 "cells": [
  {
   "cell_type": "markdown",
   "id": "74f9757a",
   "metadata": {},
   "source": [
    "Hemos sacado 3 grupos de 10 genes en los que las diferencias absolutas (entre RIN alto y bajo) en el porcentaje de su isoforma mayoritaria son altas, medias y bajas para TS12, TS12 y TS12 , respectivamente. (Usando el script grupos_genes.py). Ahora toca plotear el número de isoformas y porcentaje de la isoforma mayoritaria de estos genes frente a distintos valores de RIN. Por ejemplo, para cada gen del top.txt sacaaríamos el número de isoformas y porcentaje max en cada uno de los ficheros output de la carpeta Procesado y nos quedaríamos con su RIN. Podemos empezar simplemente viendo el número de isoformas por grupo."
   ]
  },
  {
   "cell_type": "code",
   "execution_count": 52,
   "id": "77b28cb7",
   "metadata": {},
   "outputs": [],
   "source": [
    "import pandas as pd\n",
    "import os\n",
    "import glob\n",
    "import matplotlib.pyplot as plt\n",
    "import seaborn as sns\n",
    "import numpy as np"
   ]
  },
  {
   "cell_type": "code",
   "execution_count": 3,
   "id": "4f9097c7",
   "metadata": {},
   "outputs": [],
   "source": [
    "grupos = [] # en orden top-med-tail\n",
    "for i in [\"top.txt\",\"med.txt\",\"tail.txt\"]:\n",
    "    ruta = \"output/\" + i\n",
    "    lista = []\n",
    "    with open(ruta) as f:\n",
    "        for i in f:\n",
    "            lista.append(i.strip())\n",
    "    grupos.append(lista)\n"
   ]
  },
  {
   "cell_type": "code",
   "execution_count": 99,
   "id": "305aec33",
   "metadata": {},
   "outputs": [],
   "source": [
    "top = grupos[0]\n",
    "# Yo diría que lo mejor es generar un df en el que para cada gen se cuente el núm de isoformas por RIN.\n",
    "archivos = glob.glob(\"../Procesado/outputs/TS12*\")\n",
    "resultados = [] # Una lista temporal con los df que voy creando para concatenar al final\n",
    "for ruta in archivos:\n",
    "    # Sacamos el RIN\n",
    "    rin = float(ruta.split(\"_\")[2])\n",
    "    # Lo leemos como un DF\n",
    "    df =  pd.read_csv(ruta, sep = \"\\t\")\n",
    "    # sacamos el porc max de cada gen\n",
    "    porcentajes = df.groupby(\"associated_gene\")[\"porcentaje\"].max().reindex(top, fill_value= 0).to_frame(name=\"max_porcentaje\")\n",
    "    # Y el numero de isoformas de cada gen\n",
    "    cuentas = df[\"associated_gene\"].value_counts()\n",
    "    cuentas_top = cuentas.reindex(top,fill_value=0).to_frame(name=\"count\")\n",
    "    # y lo juntamos\n",
    "    tabla = cuentas_top.join(porcentajes)\n",
    "    tabla[\"RIN\"] = rin\n",
    "    tabla = tabla.reset_index().rename(columns={\"index\": \"gene_name\"})\n",
    "    resultados.append(tabla)\n",
    "    \n",
    "tabla_top = pd.concat(resultados,ignore_index=True)\n"
   ]
  },
  {
   "cell_type": "code",
   "execution_count": 100,
   "id": "607f2962",
   "metadata": {},
   "outputs": [],
   "source": [
    "top = grupos[1]\n",
    "# Yo diría que lo mejor es generar un df en el que para cada gen se cuente el núm de isoformas por RIN.\n",
    "#top_df = pd.DataFrame({\"gene_name\":\"\",\"RIN\":\"\",\"n_isoformas\":\"\",\"porc_max\":\"\"}) # Cada combinación de gene_name y RIN única será un punto\n",
    "# Usando solo el TS10 por ejemplo\n",
    "archivos = glob.glob(\"../Procesado/outputs/TS12*\")\n",
    "resultados = [] # Una lista temporal con los df que voy creando para concatenar al final\n",
    "n = True\n",
    "for ruta in archivos:\n",
    "    if n == False:\n",
    "        break\n",
    "    # Sacamos el RIN\n",
    "    rin = float(ruta.split(\"_\")[2])\n",
    "    # Lo leemos como un DF\n",
    "    df =  pd.read_csv(ruta, sep = \"\\t\")\n",
    "    # sacamos el porc max de cada gen\n",
    "    porcentajes = df.groupby(\"associated_gene\")[\"porcentaje\"].max().reindex(top, fill_value= 0).to_frame(name=\"max_porcentaje\")\n",
    "    # Y el numero de isoformas de cada gen\n",
    "    cuentas = df[\"associated_gene\"].value_counts()\n",
    "    cuentas_top = cuentas.reindex(top,fill_value=0).to_frame(name=\"count\")\n",
    "    # y lo juntamos\n",
    "    tabla = cuentas_top.join(porcentajes)\n",
    "    tabla[\"RIN\"] = rin\n",
    "    tabla = tabla.reset_index().rename(columns={\"index\": \"gene_name\"})\n",
    "    resultados.append(tabla)\n",
    "    \n",
    "tabla_med = pd.concat(resultados,ignore_index=True)\n"
   ]
  },
  {
   "cell_type": "code",
   "execution_count": 101,
   "id": "8c4f85e1",
   "metadata": {},
   "outputs": [],
   "source": [
    "top = grupos[2]\n",
    "# Yo diría que lo mejor es generar un df en el que para cada gen se cuente el núm de isoformas por RIN.\n",
    "#top_df = pd.DataFrame({\"gene_name\":\"\",\"RIN\":\"\",\"n_isoformas\":\"\",\"porc_max\":\"\"}) # Cada combinación de gene_name y RIN única será un punto\n",
    "# Usando solo el TS12 por ejemplo\n",
    "archivos = glob.glob(\"../Procesado/outputs/TS12*\")\n",
    "resultados = [] # Una lista temporal con los df que voy creando para concatenar al final\n",
    "n = True\n",
    "for ruta in archivos:\n",
    "    if n == False:\n",
    "        break\n",
    "    # Sacamos el RIN\n",
    "    rin = float(ruta.split(\"_\")[2])\n",
    "    # Lo leemos como un DF\n",
    "    df =  pd.read_csv(ruta, sep = \"\\t\")\n",
    "    # sacamos el porc max de cada gen\n",
    "    porcentajes = df.groupby(\"associated_gene\")[\"porcentaje\"].max().reindex(top, fill_value= 0).to_frame(name=\"max_porcentaje\")\n",
    "    # Y el numero de isoformas de cada gen\n",
    "    cuentas = df[\"associated_gene\"].value_counts()\n",
    "    cuentas_top = cuentas.reindex(top,fill_value=0).to_frame(name=\"count\")\n",
    "    # y lo juntamos\n",
    "    tabla = cuentas_top.join(porcentajes)\n",
    "    tabla[\"RIN\"] = rin\n",
    "    tabla = tabla.reset_index().rename(columns={\"index\": \"gene_name\"})\n",
    "    resultados.append(tabla)\n",
    "    \n",
    "tabla_tail = pd.concat(resultados,ignore_index=True)"
   ]
  },
  {
   "cell_type": "code",
   "execution_count": null,
   "id": "2b82e94e",
   "metadata": {},
   "outputs": [],
   "source": [
    "tabla_top[\"grupo\"] = \"Top\"\n",
    "tabla_med[\"grupo\"] = \"Med\"\n",
    "tabla_tail[\"grupo\"] = \"Low\"\n",
    "tablas = [tabla_top,tabla_med,tabla_tail]\n",
    "tabla_final = pd.concat(tablas)\n",
    "tabla_final"
   ]
  },
  {
   "cell_type": "code",
   "execution_count": null,
   "id": "105c4104",
   "metadata": {},
   "outputs": [],
   "source": [
    "sns.scatterplot(data = tabla_final, x = \"RIN\", y = \"max_porcentaje\", hue = \"grupo\", palette = \"tab10\",alpha = 0.8)\n",
    "plt.ylim((-5,105))\n",
    "plt.xlabel(\"RIN\")\n",
    "plt.ylabel(\"Porcentaje de la isoforma mayoritaria\")\n",
    "plt.title(\"Porcentaje max vs RIN en TOP\")\n",
    "plt.legend(title = \"Grupo\",bbox_to_anchor=(1.05, 1), loc='upper left')\n",
    "\n",
    "plt.title(\"Porcentaje max vs RIN\")\n",
    "plt.show()"
   ]
  },
  {
   "cell_type": "code",
   "execution_count": null,
   "id": "25b45b05",
   "metadata": {},
   "outputs": [],
   "source": [
    "sns.swarmplot(data = tabla_final, x = \"RIN\", y = \"max_porcentaje\", hue = \"grupo\", palette = \"tab10\",alpha = 0.8)\n",
    "plt.ylim((-5,105))\n",
    "plt.xlabel(\"RIN\")\n",
    "plt.ylabel(\"Porcentaje de la isoforma mayoritaria\")\n",
    "plt.title(\"Porcentaje max vs RIN en TOP\")\n",
    "plt.legend(title = \"Grupo\",bbox_to_anchor=(1.05, 1), loc='upper left')\n",
    "\n",
    "plt.title(\"Porcentaje max vs RIN\")\n",
    "plt.show()"
   ]
  },
  {
   "cell_type": "code",
   "execution_count": null,
   "id": "e6f20e0d",
   "metadata": {},
   "outputs": [],
   "source": [
    "# Aqui generamos los plots cambiando el ==\"Top\" por Med o Low\n",
    "sns.swarmplot(tabla_final[tabla_final[\"grupo\"]==\"Med\"], x = \"RIN\", y = \"max_porcentaje\")\n",
    "plt.ylim((-5,105))\n",
    "plt.xlabel(\"RIN\")\n",
    "plt.ylabel(\"Porcentaje de la isoforma mayoritaria\")\n",
    "plt.title(\"Porcentaje max vs RIN\")\n",
    "plt.show()"
   ]
  },
  {
   "cell_type": "code",
   "execution_count": 106,
   "id": "c80cf260",
   "metadata": {},
   "outputs": [],
   "source": [
    "for i in [\"Top\", \"Med\", \"Low\"]:\n",
    "    plt.figure(figsize=(10,6))\n",
    "    df = tabla_final[tabla_final[\"grupo\"] == i]\n",
    "    sns.swarmplot(df, x = \"RIN\", y = \"max_porcentaje\", hue = \"associated_gene\",palette = \"tab10\", alpha = 0.8)\n",
    "    plt.ylim((-5,105))\n",
    "    plt.xlabel(\"RIN\")\n",
    "    plt.ylabel(\"% de isoforma mayoritaria\")\n",
    "    plt.title(f\"% de isoforma mayoritaria vs RIN ({i})\")\n",
    "    plt.legend(title = \"Gen\",bbox_to_anchor=(1.05, 1), loc='upper left')\n",
    "    archivo = f\"Figuras/swarmplot_max_porcentaje_{i}.png\"\n",
    "    plt.tight_layout()\n",
    "    plt.savefig(archivo)\n",
    "    plt.close()"
   ]
  },
  {
   "cell_type": "code",
   "execution_count": 107,
   "id": "b5fdd996",
   "metadata": {},
   "outputs": [],
   "source": [
    "for i in [\"Top\", \"Med\", \"Low\"]:\n",
    "    plt.figure(figsize=(10,6))\n",
    "    df = tabla_final[tabla_final[\"grupo\"] == i]\n",
    "    sns.swarmplot(df, x = \"RIN\", y = \"count\", hue = \"associated_gene\",palette = \"tab10\", alpha = 0.8)\n",
    "    plt.ylim((0,13))\n",
    "    plt.xlabel(\"RIN\")\n",
    "    plt.ylabel(\"Número de isoformas detectadas\")\n",
    "    plt.title(f\"Número de isoformas vs RIN ({i})\")\n",
    "    plt.legend(title = \"Gen\",bbox_to_anchor=(1.05, 1), loc='upper left')\n",
    "    archivo = f\"Figuras/swarmplot_counts_{i}.png\"\n",
    "    plt.tight_layout()\n",
    "    plt.savefig(archivo)\n",
    "    plt.close()"
   ]
  },
  {
   "cell_type": "markdown",
   "id": "1c194d3e",
   "metadata": {},
   "source": [
    "Ahora podemos buscar las longitudes de las lecturas de nuestros genes y plotear su distribución."
   ]
  },
  {
   "cell_type": "code",
   "execution_count": 108,
   "id": "5079853a",
   "metadata": {},
   "outputs": [],
   "source": [
    "grupos_dic ={0:\"Top\",1:\"Med\",2:\"Low\"}\n",
    "\n",
    "#top = grupos[2]\n",
    "archivos = glob.glob(\"../Procesado/inputs/TS12*\")\n",
    "resultados = [] # Una lista temporal con los df que voy creando para concatenar al final\n",
    "for ruta in archivos:\n",
    "    # Sacamos el RIN\n",
    "    rin = float(ruta.split(\"_\")[2])\n",
    "    # Lo leemos como un DF\n",
    "    df =  pd.read_csv(ruta, sep = \"\\t\", dtype={1: str})\n",
    "    # Columnas que nos pueden interesar\n",
    "    df = df[[\"isoform\",\"length\",\"associated_gene\",\"associated_transcript\",\"ref_length\"]]\n",
    "    n = 0\n",
    "    #Recorremos la lista que tiene los tres grupos de genes (top, mid y low)\n",
    "    for i in grupos:\n",
    "        # Nos quedamos con los que están en la lista que toque\n",
    "        df_i = df[df[\"associated_gene\"].isin(i)].copy()\n",
    "        df_i[\"RIN\"] = rin\n",
    "        # Especificamos si es top mid o low\n",
    "        df_i[\"Grupo\"] = grupos_dic[n]\n",
    "        # Añadimos a una lista el df para luego concatenarlo\n",
    "        resultados.append(df_i)\n",
    "        \n",
    "        n += 1\n",
    "# Concatenamos dataframes\n",
    "df_final = pd.concat(resultados, ignore_index = True)\n",
    "df_final = df_final[df_final[\"associated_transcript\"] != \"novel\"]"
   ]
  },
  {
   "cell_type": "code",
   "execution_count": 109,
   "id": "2059be5d",
   "metadata": {},
   "outputs": [],
   "source": [
    "for i in [\"Top\", \"Med\", \"Low\"]:\n",
    "    plt.figure(figsize=(10,6))\n",
    "    df = df_final[df_final[\"Grupo\"] == i]\n",
    "    sns.violinplot(x=\"RIN\", y=\"length\", data=df)\n",
    "    plt.ylim((-5,9000))\n",
    "    plt.xlabel(\"RIN\")\n",
    "    plt.ylabel(\"Longitud de lectura\")\n",
    "    plt.title(f\"Longitud de lecturas vs RIN ({i})\")\n",
    "    #plt.legend(title = \"Gen\",bbox_to_anchor=(1.05, 1), loc='upper left')\n",
    "    archivo = f\"Figuras/violinplot_length_{i}.png\"\n",
    "    plt.tight_layout()\n",
    "    plt.savefig(archivo)\n",
    "    plt.close()"
   ]
  },
  {
   "cell_type": "code",
   "execution_count": 110,
   "id": "aa4174e6",
   "metadata": {},
   "outputs": [],
   "source": [
    "plt.figure(figsize=(10,6))\n",
    "sns.violinplot(x=\"RIN\", y=\"length\", data=df_final, hue = \"Grupo\", palette= \"Set2\", cut = 0)\n",
    "\n",
    "plt.xlabel(\"RIN\")\n",
    "plt.ylabel(\"Longitud de lectura\")\n",
    "plt.title(f\"Longitud de lecturas vs RIN por grupo\")\n",
    "plt.legend(title = \"Grupo\",bbox_to_anchor=(1.05, 1), loc='upper left')\n",
    "archivo = f\"Figuras/violinplot_length_total.png\"\n",
    "plt.tight_layout()\n",
    "plt.savefig(archivo)\n",
    "plt.close()"
   ]
  },
  {
   "cell_type": "markdown",
   "id": "ad1f0c05",
   "metadata": {},
   "source": [
    "Ahora podemos probar a sacar la diferencia entre la ref length y la length real para ver si hay alguna correlación"
   ]
  },
  {
   "cell_type": "code",
   "execution_count": 111,
   "id": "15e8359c",
   "metadata": {},
   "outputs": [],
   "source": [
    "df_final[\"Dif_ref\"] = df_final[\"ref_length\"] - df_final[\"length\"]\n",
    "plt.figure(figsize=(10,6))\n",
    "sns.violinplot(x=\"RIN\", y=\"Dif_ref\", data=df_final, hue = \"Grupo\", palette= \"Set2\", cut = 0)\n",
    "#plt.ylim((-5,9000))\n",
    "plt.xlabel(\"RIN\")\n",
    "plt.ylabel(\"Longitud en referencia - longitud real\")\n",
    "plt.title(f\"Diferencia con la referencia vs RIN por grupo\")\n",
    "plt.legend(title = \"Grupo\",bbox_to_anchor=(1.05, 1), loc='upper left')\n",
    "archivo = f\"Figuras/violinplot_DifRef.png\"\n",
    "plt.tight_layout()\n",
    "plt.savefig(archivo)\n",
    "plt.close()"
   ]
  },
  {
   "cell_type": "markdown",
   "id": "d7509267",
   "metadata": {},
   "source": [
    "Ahora lo que tocaría sería sacar info a partir de la secuencia. Guardarnos todas las secuencias de reads correspondientes a estos genes y contar %GC, etc...\n",
    "Para sacar todas las secuencias de reads correspondientes a nuestros genes tendremos que ir tabla por tabla y grupo por grupo"
   ]
  },
  {
   "cell_type": "code",
   "execution_count": null,
   "id": "bc0152f4",
   "metadata": {},
   "outputs": [],
   "source": [
    "archivos = glob.glob(\"../Procesado/inputs/TS*\")\n",
    "dic_grupos = {0 : \"Top\", 1 : \"Med\", 2 : \"Low\"}\n",
    "for i in archivos:\n",
    "    # Lo leemos como un DF\n",
    "    df =  pd.read_csv(i, sep = \"\\t\")\n",
    "    # Para cada grupo:\n",
    "    n = 0\n",
    "    for x in grupos:\n",
    "        # Nos quedamos con las reads que correspondan a genes del grupo\n",
    "        df_grupo = df[df[\"associated_gene\"].isin(x)]\n",
    "        # Y generamos un archivo con estos ids...\n",
    "        ruta = f\"readIDs_grupos/{\"_\".join(os.path.basename(i).split(\"_\")[0:3])}_{dic_grupos[n]}.txt\"\n",
    "        print(ruta)\n",
    "        \n",
    "        with open(ruta,\"w\") as f:\n",
    "            for iso in df_grupo[\"isoform\"]:\n",
    "                f.write(iso + \"\\n\")\n",
    "        \n",
    "        n += 1"
   ]
  },
  {
   "cell_type": "code",
   "execution_count": null,
   "id": "c02895d0",
   "metadata": {},
   "outputs": [],
   "source": [
    "dic_ids= {}\n",
    "# Ahora toca recorrer los fastqs en busca de estas secuencias:\n",
    "archivos = glob.glob(\"fastqs/*\")\n",
    "# Para cada fastq\n",
    "for arch in archivos:\n",
    "    id_sec = {}\n",
    "    with open(arch,\"r\") as f:\n",
    "        n = 0\n",
    "        for line in f:\n",
    "            if n % 4 == 0:\n",
    "                id = line.split(\"|\",1)[1].split()[0]\n",
    "            elif n % 4 == 1:\n",
    "                id_sec[id] = line.strip()\n",
    "            n += 1\n",
    "    # Nos quedamos con el TS y RIN\n",
    "    pre = \"_\".join(os.path.basename(arch).split(\"_\")[0:3])\n",
    "    print(pre)\n",
    "    for i in [\"Top.txt\",\"Med.txt\", \"Low.txt\"]:\n",
    "        # Vamos a guardarnos en el dic los ids \n",
    "        ruta = \"readIDs_grupos/\" + pre + '_' + i\n",
    "        dic_ids[i] = []\n",
    "        with open(ruta,\"r\") as f:\n",
    "            for id in f:\n",
    "                dic_ids[i].append(id.strip())\n",
    "                \n",
    "    for i in id_sec.keys():\n",
    "        # Si el id está en los ids de top\n",
    "        if i in dic_ids[\"Top.txt\"]:\n",
    "            with open(f\"secuencias_grupos/{pre}_top.fasta\", \"a\") as f:\n",
    "                f.write('>' + i + '\\n' + id_sec[i] + '\\n')\n",
    "        elif i in dic_ids[\"Med.txt\"]:\n",
    "            with open(f\"secuencias_grupos/{pre}_mid.fasta\", \"a\") as f:\n",
    "                f.write('>' + i + '\\n' + id_sec[i] + '\\n')\n",
    "        elif i in dic_ids[\"Low.txt\"]:\n",
    "            with open(f\"secuencias_grupos/{pre}_low.fasta\", \"a\") as f:\n",
    "                f.write('>' + i + '\\n' + id_sec[i] + '\\n')\n",
    "                \n",
    "\n",
    "                "
   ]
  },
  {
   "cell_type": "code",
   "execution_count": 53,
   "id": "692250f3",
   "metadata": {},
   "outputs": [],
   "source": [
    "def sacaGC(ruta):\n",
    "    with open(ruta,'r') as f:\n",
    "        porcentajes = []\n",
    "        for line in f:\n",
    "            line = line.strip()\n",
    "            if line.startswith(\">\"):\n",
    "                id = line\n",
    "            else:\n",
    "                porc = 100 * ((line.count(\"G\") + line.count(\"C\")) / len(line))\n",
    "                porcentajes.append(porc)\n",
    "                \n",
    "    porc_GC = np.mean(porcentajes)\n",
    "    return porc_GC\n",
    "archivos = glob.glob(\"secuencias_grupos/*\")\n",
    "with open(\"tablaGC.tsv\", \"w\") as f:\n",
    "        f.write(\"TS\" + '\\t' + \"RIN\" + '\\t' + \"GRUPO\" + '\\t' + \"PORC_GC\" + \"\\n\")\n",
    "for arch in archivos:\n",
    "    separado = os.path.basename(arch).split(\"_\")\n",
    "    ts = separado[0]\n",
    "    rin = separado[2]\n",
    "    grupo = separado[-1][0:3]\n",
    "    porc = sacaGC(arch)\n",
    "    with open(\"tablaGC.tsv\", \"a\") as f:\n",
    "        f.write(ts + '\\t' + rin + '\\t' + grupo+ '\\t' + str(porc) + \"\\n\")"
   ]
  },
  {
   "cell_type": "code",
   "execution_count": 58,
   "id": "4bcdca0a",
   "metadata": {},
   "outputs": [],
   "source": [
    "# Ahora ya toca plotearlo\n",
    "# Leemos el tsv\n",
    "tablaGC = pd.read_csv(\"tablaGC.tsv\", sep = \"\\t\")\n",
    "tablaGC\n",
    "sns.scatterplot(x = \"RIN\", y = \"PORC_GC\", data = tablaGC, hue = \"GRUPO\", palette= \"Set2\")\n",
    "plt.title(\"Porcentaje medio de GC vs RIN (por grupo)\")\n",
    "plt.ylabel(\"Porcentaje de GC\")\n",
    "plt.legend(title = \"Grupo\",bbox_to_anchor=(1.05, 1), loc='upper left')\n",
    "ruta_png = \"Figuras/porcGCvsRIN.png\"\n",
    "plt.tight_layout()\n",
    "plt.savefig(ruta_png)\n",
    "plt.close()\n"
   ]
  },
  {
   "cell_type": "markdown",
   "id": "38d28b73",
   "metadata": {},
   "source": [
    "Cosas a preguntar:\n",
    "-lo de que las del grupo LOW no tengan ninguna otra isoforma y por eso no cambien con el RIN. Alomejor podriamos coger mejor las que menos cambien de las que tienen isoformas.\n",
    "-Que más sacar de lo de la secuencia  \n",
    "-Cómo lidiar con lo de que sean otros TS\n",
    "Hay algunas en las que cambia mucho desde el rin más bajo hasta el mas alto, pero luego en los demás se mantiene constante y tal. Alomejor podríamos seleccionar los grupos en base a la varianza a lo largo de todos los RINs del % de la mayoritaria o quizás algo asi como la pendiente haciendo una regresión lineal (para asegurarnos que va \"en una misma dirección\" el cambio en el porcentaje). También podríamos tomar algo así como la media de las diferencias entre el RIN más bajo y las demás. "
   ]
  },
  {
   "cell_type": "markdown",
   "id": "bd0cb451",
   "metadata": {},
   "source": []
  }
 ],
 "metadata": {
  "kernelspec": {
   "display_name": "base",
   "language": "python",
   "name": "python3"
  },
  "language_info": {
   "codemirror_mode": {
    "name": "ipython",
    "version": 3
   },
   "file_extension": ".py",
   "mimetype": "text/x-python",
   "name": "python",
   "nbconvert_exporter": "python",
   "pygments_lexer": "ipython3",
   "version": "3.12.8"
  }
 },
 "nbformat": 4,
 "nbformat_minor": 5
}
